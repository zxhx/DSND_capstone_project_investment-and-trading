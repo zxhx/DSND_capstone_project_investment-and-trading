{
 "cells": [
  {
   "cell_type": "code",
   "execution_count": 2,
   "metadata": {
    "ExecuteTime": {
     "end_time": "2020-08-16T21:50:02.103431Z",
     "start_time": "2020-08-16T21:49:21.574113Z"
    }
   },
   "outputs": [
    {
     "name": "stderr",
     "output_type": "stream",
     "text": [
      "Using TensorFlow backend.\n"
     ]
    }
   ],
   "source": [
    "'''\n",
    "this script helps to predict closing price of dataset using DA-RNN. Input to the model is the open price trend and the output of the \n",
    "model is the closing price of the stock.\n",
    "'''\n",
    "\n",
    "# Importing the libraries\n",
    "import numpy as np\n",
    "import pandas as pd\n",
    "from sklearn.preprocessing import MinMaxScaler\n",
    "from sklearn.metrics import r2_score, mean_squared_error\n",
    "from utils import train\n",
    "from utils import save_load\n",
    "from utils import plot\n",
    "from utils import tensor\n",
    "from utils import da_rnn\n",
    "import os\n",
    "\n"
   ]
  },
  {
   "cell_type": "code",
   "execution_count": null,
   "metadata": {},
   "outputs": [],
   "source": [
    "split_ratio = 0.8\n",
    "# loading dataset\n",
    "df = pd.read_csv('./data/TCS.NS.csv')\n",
    "df = df.dropna()\n",
    "df_train = df[:int(len(df)*split_ratio)]\n",
    "df_test = df[int(len(df)*split_ratio):]\n",
    "\n",
    "# important parameters\n",
    "columns = [4]\n",
    "no_of_feature = 1\n",
    "timestep = 60\n",
    "input_col = [0]\n",
    "output_col = [0]\n",
    "\n",
    "# creating minmax scaler object\n",
    "input_set = df.iloc[:, columns].values\n",
    "sc_input = MinMaxScaler(feature_range = (0,1))\n",
    "sc_input.fit(input_set)\n",
    "sc_output = MinMaxScaler(feature_range = (0,1))\n",
    "sc_output.fit(input_set[:,output_col])\n",
    "\n",
    "# creating training set\n",
    "training_set = df_train.iloc[:, columns].values\n",
    "training_set_scaled = sc_input.transform(training_set)\n",
    "\n",
    "X_train, y_train = tensor.create_tensor(training_set_scaled, timestep, input_col,\\\n",
    "                                        output_col, no_of_feature)\n",
    "\n",
    "# creating testing set\n",
    "testing_set = df_test.iloc[:, columns].values\n",
    "x1 = pd.DataFrame(training_set[len(training_set)-timestep:])\n",
    "x2 = pd.DataFrame(testing_set)\n",
    "testing_set = np.array(pd.concat([x1, x2]))\n",
    "testing_set_scaled = sc_input.transform(testing_set)\n",
    "\n",
    "X_test, y_test = tensor.create_tensor(testing_set_scaled, timestep, input_col, \\\n",
    "                                      output_col, no_of_feature)"
   ]
  },
  {
   "cell_type": "code",
   "execution_count": null,
   "metadata": {},
   "outputs": [],
   "source": [
    "epochs = 90\n",
    "model = train.training(X_train, y_train, no_of_feature, epochs, 'relu', 'adam')\n",
    "\n",
    "path_name = \"./model/final_model\"\n",
    "\n",
    "# Saving the model\n",
    "save_load.save_model(path_name, model)\n",
    "\n"
   ]
  },
  {
   "cell_type": "code",
   "execution_count": null,
   "metadata": {},
   "outputs": [],
   "source": [
    "# loading the model\n",
    "path_name = \"./model/final_model\"\n",
    "model = save_load.load_model(path_name)\n",
    "\n",
    "# prediction using train set\n",
    "pred_train_scaled = model.predict(X_train)\n",
    "\n",
    "# rescaling the predictions (train data)\n",
    "train_predict = sc_output.inverse_transform(pred_train_scaled)\n",
    "train_actual = sc_output.inverse_transform(y_train)\n",
    "\n",
    "print('R2 Score : ', r2_score(train_actual, train_predict))\n",
    "print('MSE Score : ', mean_squared_error(train_actual, train_predict))\n",
    "\n",
    "plot.time_series_plot(train_actual, train_predict, 'red', 'blue', 'actual_close', \\\n",
    "                 'predicted_close', 'days', 'price', \\\n",
    "                 'Neural Network (multiple attributes - train data)')\n",
    "\n",
    "# prediction using test set\n",
    "pred_test_scaled = model.predict(X_test)\n",
    "\n",
    "# rescaling the predictions (test data)\n",
    "test_predict = sc_output.inverse_transform(pred_test_scaled)\n",
    "test_actual = sc_output.inverse_transform(y_test)\n",
    "\n",
    "print('R2 Score : ', r2_score(test_actual, test_predict))\n",
    "print('MSE Score : ', mean_squared_error(test_actual, test_predict))\n",
    "\n",
    "plot.time_series_plot(test_actual, test_predict, 'red', 'blue', 'actual_close', \\\n",
    "                 'predicted_open', 'days', 'price', \\\n",
    "                 'Neural Network (multiple attributes - test data)')\n",
    "    \n"
   ]
  },
  {
   "cell_type": "code",
   "execution_count": null,
   "metadata": {},
   "outputs": [],
   "source": [
    "# saving the results in excel format\n",
    "date = pd.DataFrame(df_test['Date']).reset_index(drop=True)\n",
    "actual_price_df = pd.DataFrame(test_actual).round(3)\n",
    "predict_price_df = pd.DataFrame(test_predict).round(3)\n",
    "combined_df = pd.concat([date, actual_price_df, predict_price_df], axis = 1)\n",
    "combined_df.columns = ['date','actual_close', 'predicted_close']\n",
    "combined_df.to_excel('./result/final_model/result.xlsx', index = False)"
   ]
  }
 ],
 "metadata": {
  "kernelspec": {
   "display_name": "Python 3",
   "language": "python",
   "name": "python3"
  },
  "language_info": {
   "codemirror_mode": {
    "name": "ipython",
    "version": 3
   },
   "file_extension": ".py",
   "mimetype": "text/x-python",
   "name": "python",
   "nbconvert_exporter": "python",
   "pygments_lexer": "ipython3",
   "version": "3.5.5"
  },
  "toc": {
   "base_numbering": 1,
   "nav_menu": {},
   "number_sections": true,
   "sideBar": true,
   "skip_h1_title": false,
   "title_cell": "Table of Contents",
   "title_sidebar": "Contents",
   "toc_cell": false,
   "toc_position": {},
   "toc_section_display": true,
   "toc_window_display": false
  },
  "varInspector": {
   "cols": {
    "lenName": 16,
    "lenType": 16,
    "lenVar": 40
   },
   "kernels_config": {
    "python": {
     "delete_cmd_postfix": "",
     "delete_cmd_prefix": "del ",
     "library": "var_list.py",
     "varRefreshCmd": "print(var_dic_list())"
    },
    "r": {
     "delete_cmd_postfix": ") ",
     "delete_cmd_prefix": "rm(",
     "library": "var_list.r",
     "varRefreshCmd": "cat(var_dic_list()) "
    }
   },
   "types_to_exclude": [
    "module",
    "function",
    "builtin_function_or_method",
    "instance",
    "_Feature"
   ],
   "window_display": false
  }
 },
 "nbformat": 4,
 "nbformat_minor": 2
}
