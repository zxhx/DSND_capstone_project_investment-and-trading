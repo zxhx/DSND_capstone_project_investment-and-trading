{
 "cells": [
  {
   "cell_type": "code",
   "execution_count": 1,
   "metadata": {
    "ExecuteTime": {
     "end_time": "2020-08-28T14:56:17.520585Z",
     "start_time": "2020-08-28T14:56:17.323573Z"
    },
    "colab": {},
    "colab_type": "code",
    "id": "FaIzinMDX5hB"
   },
   "outputs": [
    {
     "ename": "ImportError",
     "evalue": "No module named 'google.colab'",
     "output_type": "error",
     "traceback": [
      "\u001b[1;31m---------------------------------------------------------------------------\u001b[0m",
      "\u001b[1;31mImportError\u001b[0m                               Traceback (most recent call last)",
      "\u001b[1;32m<ipython-input-1-d5df0069828e>\u001b[0m in \u001b[0;36m<module>\u001b[1;34m()\u001b[0m\n\u001b[1;32m----> 1\u001b[1;33m \u001b[1;32mfrom\u001b[0m \u001b[0mgoogle\u001b[0m\u001b[1;33m.\u001b[0m\u001b[0mcolab\u001b[0m \u001b[1;32mimport\u001b[0m \u001b[0mdrive\u001b[0m\u001b[1;33m\u001b[0m\u001b[0m\n\u001b[0m\u001b[0;32m      2\u001b[0m \u001b[0mdrive\u001b[0m\u001b[1;33m.\u001b[0m\u001b[0mmount\u001b[0m\u001b[1;33m(\u001b[0m\u001b[1;34m'/content/drive'\u001b[0m\u001b[1;33m)\u001b[0m\u001b[1;33m\u001b[0m\u001b[0m\n",
      "\u001b[1;31mImportError\u001b[0m: No module named 'google.colab'"
     ]
    }
   ],
   "source": [
    "from google.colab import drive\n",
    "drive.mount('/content/drive')"
   ]
  },
  {
   "cell_type": "code",
   "execution_count": null,
   "metadata": {
    "colab": {},
    "colab_type": "code",
    "id": "v7aFYUI5avnH"
   },
   "outputs": [],
   "source": [
    "import sys\n",
    "sys.path.append(\"/content/drive/My Drive/DSND_capstone_project_investment and trading/utils\")\n",
    "sys.path.append(\"/content/drive/My Drive/DSND_capstone_project_investment and trading/data\")\n",
    "sys.path.append(\"/content/drive/My Drive/DSND_capstone_project_investment and trading/model\")\n",
    "sys.path.append(\"/content/drive/My Drive/DSND_capstone_project_investment and trading/result\")"
   ]
  },
  {
   "cell_type": "code",
   "execution_count": 2,
   "metadata": {
    "ExecuteTime": {
     "end_time": "2020-08-28T14:56:28.066188Z",
     "start_time": "2020-08-28T14:56:24.918008Z"
    },
    "colab": {
     "base_uri": "https://localhost:8080/",
     "height": 377
    },
    "colab_type": "code",
    "id": "_jtTCNCIcGY8",
    "outputId": "39cf7256-a430-41e6-82f7-d9621d4ab0de"
   },
   "outputs": [
    {
     "name": "stdout",
     "output_type": "stream",
     "text": [
      "Requirement already satisfied: tushare in c:\\programdata\\anaconda3\\envs\\dlnd-tf-lab\\lib\\site-packages (1.2.60)\n",
      "Requirement already satisfied: websocket-client>=0.57.0 in c:\\programdata\\anaconda3\\envs\\dlnd-tf-lab\\lib\\site-packages (from tushare) (0.57.0)\n",
      "Requirement already satisfied: lxml>=3.8.0 in c:\\programdata\\anaconda3\\envs\\dlnd-tf-lab\\lib\\site-packages (from tushare) (4.2.5)\n",
      "Requirement already satisfied: bs4>=0.0.1 in c:\\programdata\\anaconda3\\envs\\dlnd-tf-lab\\lib\\site-packages (from tushare) (0.0.1)\n",
      "Requirement already satisfied: requests>=2.0.0 in c:\\programdata\\anaconda3\\envs\\dlnd-tf-lab\\lib\\site-packages (from tushare) (2.18.4)\n",
      "Requirement already satisfied: simplejson>=3.16.0 in c:\\programdata\\anaconda3\\envs\\dlnd-tf-lab\\lib\\site-packages (from tushare) (3.17.2)\n",
      "Requirement already satisfied: six in c:\\programdata\\anaconda3\\envs\\dlnd-tf-lab\\lib\\site-packages (from websocket-client>=0.57.0->tushare) (1.11.0)\n",
      "Requirement already satisfied: beautifulsoup4 in c:\\programdata\\anaconda3\\envs\\dlnd-tf-lab\\lib\\site-packages (from bs4>=0.0.1->tushare) (4.7.1)\n",
      "Requirement already satisfied: chardet<3.1.0,>=3.0.2 in c:\\programdata\\anaconda3\\envs\\dlnd-tf-lab\\lib\\site-packages (from requests>=2.0.0->tushare) (3.0.4)\n",
      "Requirement already satisfied: idna<2.7,>=2.5 in c:\\programdata\\anaconda3\\envs\\dlnd-tf-lab\\lib\\site-packages (from requests>=2.0.0->tushare) (2.6)\n",
      "Requirement already satisfied: urllib3<1.23,>=1.21.1 in c:\\programdata\\anaconda3\\envs\\dlnd-tf-lab\\lib\\site-packages (from requests>=2.0.0->tushare) (1.22)\n",
      "Requirement already satisfied: certifi>=2017.4.17 in c:\\programdata\\anaconda3\\envs\\dlnd-tf-lab\\lib\\site-packages (from requests>=2.0.0->tushare) (2018.4.16)\n",
      "Requirement already satisfied: soupsieve>=1.2 in c:\\programdata\\anaconda3\\envs\\dlnd-tf-lab\\lib\\site-packages (from beautifulsoup4->bs4>=0.0.1->tushare) (1.7.3)\n"
     ]
    },
    {
     "name": "stderr",
     "output_type": "stream",
     "text": [
      "WARNING: You are using pip version 20.1.1; however, version 20.2.2 is available.\n",
      "You should consider upgrading via the 'c:\\programdata\\anaconda3\\envs\\dlnd-tf-lab\\python.exe -m pip install --upgrade pip' command.\n"
     ]
    }
   ],
   "source": [
    "!pip install tushare"
   ]
  },
  {
   "cell_type": "code",
   "execution_count": 3,
   "metadata": {
    "ExecuteTime": {
     "end_time": "2020-08-28T14:57:04.640280Z",
     "start_time": "2020-08-28T14:56:35.076589Z"
    },
    "colab": {},
    "colab_type": "code",
    "id": "sMMkdnIRYzh6"
   },
   "outputs": [
    {
     "name": "stderr",
     "output_type": "stream",
     "text": [
      "Using TensorFlow backend.\n"
     ]
    },
    {
     "ename": "ImportError",
     "evalue": "No module named 'train'",
     "output_type": "error",
     "traceback": [
      "\u001b[1;31m---------------------------------------------------------------------------\u001b[0m",
      "\u001b[1;31mImportError\u001b[0m                               Traceback (most recent call last)",
      "\u001b[1;32m<ipython-input-3-c6a43e9e830c>\u001b[0m in \u001b[0;36m<module>\u001b[1;34m()\u001b[0m\n\u001b[0;32m      5\u001b[0m \u001b[1;32mfrom\u001b[0m \u001b[0msklearn\u001b[0m\u001b[1;33m.\u001b[0m\u001b[0mpreprocessing\u001b[0m \u001b[1;32mimport\u001b[0m \u001b[0mMinMaxScaler\u001b[0m\u001b[1;33m\u001b[0m\u001b[0m\n\u001b[0;32m      6\u001b[0m \u001b[1;32mfrom\u001b[0m \u001b[0msklearn\u001b[0m\u001b[1;33m.\u001b[0m\u001b[0mmetrics\u001b[0m \u001b[1;32mimport\u001b[0m \u001b[0mr2_score\u001b[0m\u001b[1;33m,\u001b[0m \u001b[0mmean_squared_error\u001b[0m\u001b[1;33m\u001b[0m\u001b[0m\n\u001b[1;32m----> 7\u001b[1;33m \u001b[1;32mimport\u001b[0m \u001b[0mtrain\u001b[0m\u001b[1;33m\u001b[0m\u001b[0m\n\u001b[0m\u001b[0;32m      8\u001b[0m \u001b[1;32mimport\u001b[0m \u001b[0msave_load\u001b[0m\u001b[1;33m\u001b[0m\u001b[0m\n\u001b[0;32m      9\u001b[0m \u001b[1;32mimport\u001b[0m \u001b[0mplot\u001b[0m\u001b[1;33m\u001b[0m\u001b[0m\n",
      "\u001b[1;31mImportError\u001b[0m: No module named 'train'"
     ]
    }
   ],
   "source": [
    "# Import the libraries\n",
    "import numpy as np\n",
    "import pandas as pd\n",
    "from keras.callbacks import EarlyStopping\n",
    "from sklearn.preprocessing import MinMaxScaler\n",
    "from sklearn.metrics import r2_score, mean_squared_error\n",
    "import train\n",
    "import save_load\n",
    "import plot\n",
    "import tensor\n",
    "from itertools import combinations\n",
    "import os\n",
    "import shutil"
   ]
  },
  {
   "cell_type": "code",
   "execution_count": 5,
   "metadata": {
    "ExecuteTime": {
     "end_time": "2020-08-24T14:36:09.583945Z",
     "start_time": "2020-08-24T14:36:09.557943Z"
    },
    "colab": {},
    "colab_type": "code",
    "id": "WzbZPLWiX5hI"
   },
   "outputs": [],
   "source": [
    "import tushare as ts\n",
    "def get_data(token, ts_code, start_date, end_date, save_path):\n",
    "    '''\n",
    "    INPUT:\n",
    "    token - string, personal tushare access token\n",
    "    ts_code - string, stock code of SH\n",
    "    start_date - string\n",
    "    end_date - string\n",
    "    save_path - string, csv file path to save\n",
    "    \n",
    "    OUTPUT:     \n",
    "    df - pandas dataframe\n",
    "    \n",
    "    Description:\n",
    "    Get one daily stock data from tushare api and save to specified path\n",
    "        \n",
    "    '''\n",
    "    ts.set_token(token)\n",
    "    pro = ts.pro_api()\n",
    "    df = pro.query('daily', ts_code=ts_code, start_date=start_date, end_date=end_date)\n",
    "    df = df.iloc[::-1]\n",
    "    df.rename(columns={'trade_date': 'date'}, inplace=True)\n",
    "    # df = df.set_index('date')\n",
    "    df = df.loc[:, ['date','open', 'high', 'low', 'close', 'vol', 'amount']]\n",
    "    # df.to_csv(save_path, index_label=\"date\")\n",
    "    df.to_csv(save_path)\n",
    "    \n",
    "    return df"
   ]
  },
  {
   "cell_type": "code",
   "execution_count": 6,
   "metadata": {
    "colab": {},
    "colab_type": "code",
    "id": "QABXk62YdpM2"
   },
   "outputs": [],
   "source": [
    "os.chdir(\"drive/My Drive/DSND_capstone_project_investment and trading/\") "
   ]
  },
  {
   "cell_type": "code",
   "execution_count": 7,
   "metadata": {
    "ExecuteTime": {
     "end_time": "2020-08-24T14:36:38.801616Z",
     "start_time": "2020-08-24T14:36:36.081460Z"
    },
    "colab": {
     "base_uri": "https://localhost:8080/",
     "height": 359
    },
    "colab_type": "code",
    "id": "nFMaYn8EX5hM",
    "outputId": "5dd1e760-063b-4896-d170-df4b31c6ef0f",
    "scrolled": true
   },
   "outputs": [
    {
     "data": {
      "text/html": [
       "<div>\n",
       "<style scoped>\n",
       "    .dataframe tbody tr th:only-of-type {\n",
       "        vertical-align: middle;\n",
       "    }\n",
       "\n",
       "    .dataframe tbody tr th {\n",
       "        vertical-align: top;\n",
       "    }\n",
       "\n",
       "    .dataframe thead th {\n",
       "        text-align: right;\n",
       "    }\n",
       "</style>\n",
       "<table border=\"1\" class=\"dataframe\">\n",
       "  <thead>\n",
       "    <tr style=\"text-align: right;\">\n",
       "      <th></th>\n",
       "      <th>date</th>\n",
       "      <th>open</th>\n",
       "      <th>high</th>\n",
       "      <th>low</th>\n",
       "      <th>close</th>\n",
       "      <th>vol</th>\n",
       "      <th>amount</th>\n",
       "    </tr>\n",
       "  </thead>\n",
       "  <tbody>\n",
       "    <tr>\n",
       "      <th>2564</th>\n",
       "      <td>20100104</td>\n",
       "      <td>17.93</td>\n",
       "      <td>18.11</td>\n",
       "      <td>17.66</td>\n",
       "      <td>17.71</td>\n",
       "      <td>746135.58</td>\n",
       "      <td>1332370.091</td>\n",
       "    </tr>\n",
       "    <tr>\n",
       "      <th>2563</th>\n",
       "      <td>20100105</td>\n",
       "      <td>17.71</td>\n",
       "      <td>18.00</td>\n",
       "      <td>17.34</td>\n",
       "      <td>17.73</td>\n",
       "      <td>914013.73</td>\n",
       "      <td>1615349.974</td>\n",
       "    </tr>\n",
       "    <tr>\n",
       "      <th>2562</th>\n",
       "      <td>20100106</td>\n",
       "      <td>17.69</td>\n",
       "      <td>17.69</td>\n",
       "      <td>17.31</td>\n",
       "      <td>17.36</td>\n",
       "      <td>774277.06</td>\n",
       "      <td>1348702.948</td>\n",
       "    </tr>\n",
       "    <tr>\n",
       "      <th>2561</th>\n",
       "      <td>20100107</td>\n",
       "      <td>17.33</td>\n",
       "      <td>17.43</td>\n",
       "      <td>16.78</td>\n",
       "      <td>16.91</td>\n",
       "      <td>1019431.96</td>\n",
       "      <td>1742282.280</td>\n",
       "    </tr>\n",
       "    <tr>\n",
       "      <th>2560</th>\n",
       "      <td>20100108</td>\n",
       "      <td>16.88</td>\n",
       "      <td>16.98</td>\n",
       "      <td>16.68</td>\n",
       "      <td>16.91</td>\n",
       "      <td>803598.62</td>\n",
       "      <td>1351767.271</td>\n",
       "    </tr>\n",
       "    <tr>\n",
       "      <th>2559</th>\n",
       "      <td>20100111</td>\n",
       "      <td>17.88</td>\n",
       "      <td>17.91</td>\n",
       "      <td>16.80</td>\n",
       "      <td>16.94</td>\n",
       "      <td>1465692.50</td>\n",
       "      <td>2530625.181</td>\n",
       "    </tr>\n",
       "    <tr>\n",
       "      <th>2558</th>\n",
       "      <td>20100112</td>\n",
       "      <td>16.88</td>\n",
       "      <td>17.17</td>\n",
       "      <td>16.45</td>\n",
       "      <td>17.07</td>\n",
       "      <td>1121898.32</td>\n",
       "      <td>1879278.148</td>\n",
       "    </tr>\n",
       "    <tr>\n",
       "      <th>2557</th>\n",
       "      <td>20100113</td>\n",
       "      <td>16.52</td>\n",
       "      <td>16.70</td>\n",
       "      <td>15.97</td>\n",
       "      <td>16.15</td>\n",
       "      <td>2052232.76</td>\n",
       "      <td>3344313.047</td>\n",
       "    </tr>\n",
       "    <tr>\n",
       "      <th>2556</th>\n",
       "      <td>20100114</td>\n",
       "      <td>16.20</td>\n",
       "      <td>16.35</td>\n",
       "      <td>15.95</td>\n",
       "      <td>16.33</td>\n",
       "      <td>1247175.72</td>\n",
       "      <td>2011436.062</td>\n",
       "    </tr>\n",
       "    <tr>\n",
       "      <th>2555</th>\n",
       "      <td>20100115</td>\n",
       "      <td>16.27</td>\n",
       "      <td>16.46</td>\n",
       "      <td>16.03</td>\n",
       "      <td>16.31</td>\n",
       "      <td>873021.99</td>\n",
       "      <td>1417365.938</td>\n",
       "    </tr>\n",
       "  </tbody>\n",
       "</table>\n",
       "</div>"
      ],
      "text/plain": [
       "          date   open   high    low  close         vol       amount\n",
       "2564  20100104  17.93  18.11  17.66  17.71   746135.58  1332370.091\n",
       "2563  20100105  17.71  18.00  17.34  17.73   914013.73  1615349.974\n",
       "2562  20100106  17.69  17.69  17.31  17.36   774277.06  1348702.948\n",
       "2561  20100107  17.33  17.43  16.78  16.91  1019431.96  1742282.280\n",
       "2560  20100108  16.88  16.98  16.68  16.91   803598.62  1351767.271\n",
       "2559  20100111  17.88  17.91  16.80  16.94  1465692.50  2530625.181\n",
       "2558  20100112  16.88  17.17  16.45  17.07  1121898.32  1879278.148\n",
       "2557  20100113  16.52  16.70  15.97  16.15  2052232.76  3344313.047\n",
       "2556  20100114  16.20  16.35  15.95  16.33  1247175.72  2011436.062\n",
       "2555  20100115  16.27  16.46  16.03  16.31   873021.99  1417365.938"
      ]
     },
     "execution_count": 7,
     "metadata": {
      "tags": []
     },
     "output_type": "execute_result"
    }
   ],
   "source": [
    "# get data,load data and check the 1st ten rows, 78d6\n",
    "df = get_data('77bd3efe782187c3356cf64a04479f16758d00f63abf096f54a478d6', '600036.SH', '20100101', '20200821', \"data/stock_cmb.csv\")\n",
    "df.head(10)"
   ]
  },
  {
   "cell_type": "code",
   "execution_count": 8,
   "metadata": {
    "ExecuteTime": {
     "end_time": "2020-08-24T15:27:28.366041Z",
     "start_time": "2020-08-24T15:27:28.346040Z"
    },
    "colab": {
     "base_uri": "https://localhost:8080/",
     "height": 359
    },
    "colab_type": "code",
    "id": "7PESk94QX5hQ",
    "outputId": "bf182393-07fe-4558-ec1c-d4b3bb637b85",
    "scrolled": true
   },
   "outputs": [
    {
     "data": {
      "text/html": [
       "<div>\n",
       "<style scoped>\n",
       "    .dataframe tbody tr th:only-of-type {\n",
       "        vertical-align: middle;\n",
       "    }\n",
       "\n",
       "    .dataframe tbody tr th {\n",
       "        vertical-align: top;\n",
       "    }\n",
       "\n",
       "    .dataframe thead th {\n",
       "        text-align: right;\n",
       "    }\n",
       "</style>\n",
       "<table border=\"1\" class=\"dataframe\">\n",
       "  <thead>\n",
       "    <tr style=\"text-align: right;\">\n",
       "      <th></th>\n",
       "      <th>date</th>\n",
       "      <th>open</th>\n",
       "      <th>high</th>\n",
       "      <th>low</th>\n",
       "      <th>close</th>\n",
       "      <th>vol</th>\n",
       "      <th>amount</th>\n",
       "    </tr>\n",
       "  </thead>\n",
       "  <tbody>\n",
       "    <tr>\n",
       "      <th>0</th>\n",
       "      <td>20100104</td>\n",
       "      <td>17.93</td>\n",
       "      <td>18.11</td>\n",
       "      <td>17.66</td>\n",
       "      <td>17.71</td>\n",
       "      <td>746135.58</td>\n",
       "      <td>1332370.091</td>\n",
       "    </tr>\n",
       "    <tr>\n",
       "      <th>1</th>\n",
       "      <td>20100105</td>\n",
       "      <td>17.71</td>\n",
       "      <td>18.00</td>\n",
       "      <td>17.34</td>\n",
       "      <td>17.73</td>\n",
       "      <td>914013.73</td>\n",
       "      <td>1615349.974</td>\n",
       "    </tr>\n",
       "    <tr>\n",
       "      <th>2</th>\n",
       "      <td>20100106</td>\n",
       "      <td>17.69</td>\n",
       "      <td>17.69</td>\n",
       "      <td>17.31</td>\n",
       "      <td>17.36</td>\n",
       "      <td>774277.06</td>\n",
       "      <td>1348702.948</td>\n",
       "    </tr>\n",
       "    <tr>\n",
       "      <th>3</th>\n",
       "      <td>20100107</td>\n",
       "      <td>17.33</td>\n",
       "      <td>17.43</td>\n",
       "      <td>16.78</td>\n",
       "      <td>16.91</td>\n",
       "      <td>1019431.96</td>\n",
       "      <td>1742282.280</td>\n",
       "    </tr>\n",
       "    <tr>\n",
       "      <th>4</th>\n",
       "      <td>20100108</td>\n",
       "      <td>16.88</td>\n",
       "      <td>16.98</td>\n",
       "      <td>16.68</td>\n",
       "      <td>16.91</td>\n",
       "      <td>803598.62</td>\n",
       "      <td>1351767.271</td>\n",
       "    </tr>\n",
       "    <tr>\n",
       "      <th>5</th>\n",
       "      <td>20100111</td>\n",
       "      <td>17.88</td>\n",
       "      <td>17.91</td>\n",
       "      <td>16.80</td>\n",
       "      <td>16.94</td>\n",
       "      <td>1465692.50</td>\n",
       "      <td>2530625.181</td>\n",
       "    </tr>\n",
       "    <tr>\n",
       "      <th>6</th>\n",
       "      <td>20100112</td>\n",
       "      <td>16.88</td>\n",
       "      <td>17.17</td>\n",
       "      <td>16.45</td>\n",
       "      <td>17.07</td>\n",
       "      <td>1121898.32</td>\n",
       "      <td>1879278.148</td>\n",
       "    </tr>\n",
       "    <tr>\n",
       "      <th>7</th>\n",
       "      <td>20100113</td>\n",
       "      <td>16.52</td>\n",
       "      <td>16.70</td>\n",
       "      <td>15.97</td>\n",
       "      <td>16.15</td>\n",
       "      <td>2052232.76</td>\n",
       "      <td>3344313.047</td>\n",
       "    </tr>\n",
       "    <tr>\n",
       "      <th>8</th>\n",
       "      <td>20100114</td>\n",
       "      <td>16.20</td>\n",
       "      <td>16.35</td>\n",
       "      <td>15.95</td>\n",
       "      <td>16.33</td>\n",
       "      <td>1247175.72</td>\n",
       "      <td>2011436.062</td>\n",
       "    </tr>\n",
       "    <tr>\n",
       "      <th>9</th>\n",
       "      <td>20100115</td>\n",
       "      <td>16.27</td>\n",
       "      <td>16.46</td>\n",
       "      <td>16.03</td>\n",
       "      <td>16.31</td>\n",
       "      <td>873021.99</td>\n",
       "      <td>1417365.938</td>\n",
       "    </tr>\n",
       "  </tbody>\n",
       "</table>\n",
       "</div>"
      ],
      "text/plain": [
       "       date   open   high    low  close         vol       amount\n",
       "0  20100104  17.93  18.11  17.66  17.71   746135.58  1332370.091\n",
       "1  20100105  17.71  18.00  17.34  17.73   914013.73  1615349.974\n",
       "2  20100106  17.69  17.69  17.31  17.36   774277.06  1348702.948\n",
       "3  20100107  17.33  17.43  16.78  16.91  1019431.96  1742282.280\n",
       "4  20100108  16.88  16.98  16.68  16.91   803598.62  1351767.271\n",
       "5  20100111  17.88  17.91  16.80  16.94  1465692.50  2530625.181\n",
       "6  20100112  16.88  17.17  16.45  17.07  1121898.32  1879278.148\n",
       "7  20100113  16.52  16.70  15.97  16.15  2052232.76  3344313.047\n",
       "8  20100114  16.20  16.35  15.95  16.33  1247175.72  2011436.062\n",
       "9  20100115  16.27  16.46  16.03  16.31   873021.99  1417365.938"
      ]
     },
     "execution_count": 8,
     "metadata": {
      "tags": []
     },
     "output_type": "execute_result"
    }
   ],
   "source": [
    "# reindex and show head 10 rows\n",
    "df = df.reset_index(drop=True)\n",
    "df.head(10)"
   ]
  },
  {
   "cell_type": "code",
   "execution_count": 18,
   "metadata": {
    "colab": {
     "base_uri": "https://localhost:8080/",
     "height": 266
    },
    "colab_type": "code",
    "id": "qypOlPadUkhz",
    "outputId": "51bad9b4-394f-4413-cf64-280a64294ea0"
   },
   "outputs": [
    {
     "data": {
      "text/html": [
       "<div>\n",
       "<style scoped>\n",
       "    .dataframe tbody tr th:only-of-type {\n",
       "        vertical-align: middle;\n",
       "    }\n",
       "\n",
       "    .dataframe tbody tr th {\n",
       "        vertical-align: top;\n",
       "    }\n",
       "\n",
       "    .dataframe thead th {\n",
       "        text-align: right;\n",
       "    }\n",
       "</style>\n",
       "<table border=\"1\" class=\"dataframe\">\n",
       "  <thead>\n",
       "    <tr style=\"text-align: right;\">\n",
       "      <th></th>\n",
       "      <th>value_count</th>\n",
       "      <th>value_distinct</th>\n",
       "      <th>num_nans</th>\n",
       "      <th>percent_nans</th>\n",
       "    </tr>\n",
       "  </thead>\n",
       "  <tbody>\n",
       "    <tr>\n",
       "      <th>date</th>\n",
       "      <td>2565</td>\n",
       "      <td>2565</td>\n",
       "      <td>0</td>\n",
       "      <td>0.0</td>\n",
       "    </tr>\n",
       "    <tr>\n",
       "      <th>open</th>\n",
       "      <td>2565</td>\n",
       "      <td>1340</td>\n",
       "      <td>0</td>\n",
       "      <td>0.0</td>\n",
       "    </tr>\n",
       "    <tr>\n",
       "      <th>high</th>\n",
       "      <td>2565</td>\n",
       "      <td>1365</td>\n",
       "      <td>0</td>\n",
       "      <td>0.0</td>\n",
       "    </tr>\n",
       "    <tr>\n",
       "      <th>low</th>\n",
       "      <td>2565</td>\n",
       "      <td>1352</td>\n",
       "      <td>0</td>\n",
       "      <td>0.0</td>\n",
       "    </tr>\n",
       "    <tr>\n",
       "      <th>close</th>\n",
       "      <td>2565</td>\n",
       "      <td>1372</td>\n",
       "      <td>0</td>\n",
       "      <td>0.0</td>\n",
       "    </tr>\n",
       "    <tr>\n",
       "      <th>vol</th>\n",
       "      <td>2565</td>\n",
       "      <td>2565</td>\n",
       "      <td>0</td>\n",
       "      <td>0.0</td>\n",
       "    </tr>\n",
       "    <tr>\n",
       "      <th>amount</th>\n",
       "      <td>2565</td>\n",
       "      <td>2565</td>\n",
       "      <td>0</td>\n",
       "      <td>0.0</td>\n",
       "    </tr>\n",
       "  </tbody>\n",
       "</table>\n",
       "</div>"
      ],
      "text/plain": [
       "        value_count  value_distinct  num_nans  percent_nans\n",
       "date           2565            2565         0           0.0\n",
       "open           2565            1340         0           0.0\n",
       "high           2565            1365         0           0.0\n",
       "low            2565            1352         0           0.0\n",
       "close          2565            1372         0           0.0\n",
       "vol            2565            2565         0           0.0\n",
       "amount         2565            2565         0           0.0"
      ]
     },
     "execution_count": 18,
     "metadata": {
      "tags": []
     },
     "output_type": "execute_result"
    }
   ],
   "source": [
    "def build_feature_info(df):\n",
    "\n",
    "  '''\n",
    "    INPUT:\n",
    "    df - pandas dataframe, from the dataset\n",
    "    OUTPUT:     \n",
    "    pandas dataframe - get the knowledge of the dataset:value count, value distinct, nummber of NAN value, percent of NAN value\n",
    "    Description:\n",
    "    Get one daily stock data from tushare api and save to specified path     \n",
    "  '''\n",
    "  return pd.DataFrame({'value_count': [df[x].count() for x in  df.columns], \n",
    "             'value_distinct' : [df[x].unique().shape[0] for x in  df.columns],  \n",
    "             'num_nans':  [df[x].isnull().sum() for x in  df.columns], \n",
    "             'percent_nans' : [round(df[x].isnull().sum()/df[x].shape[0], 3) for x in  df.columns],\n",
    "             },  index = df.columns)   \n",
    "\n",
    "feat_info_df =  build_feature_info(df)\n",
    "feat_info_df.sort_values(by=['percent_nans'], ascending=False)"
   ]
  },
  {
   "cell_type": "code",
   "execution_count": null,
   "metadata": {
    "ExecuteTime": {
     "end_time": "2020-08-24T15:45:11.168830Z",
     "start_time": "2020-08-24T15:45:11.133828Z"
    },
    "colab": {},
    "colab_type": "code",
    "id": "84X0qwTrX5hT"
   },
   "outputs": [],
   "source": [
    "# df.dropna()"
   ]
  },
  {
   "cell_type": "code",
   "execution_count": 19,
   "metadata": {
    "ExecuteTime": {
     "end_time": "2020-08-24T15:45:33.036080Z",
     "start_time": "2020-08-24T15:45:32.448047Z"
    },
    "colab": {
     "base_uri": "https://localhost:8080/",
     "height": 1000
    },
    "colab_type": "code",
    "id": "ZgXU8Ju1X5hX",
    "outputId": "e4e18f47-b094-48da-94e6-e2d586d53775",
    "scrolled": true
   },
   "outputs": [
    {
     "data": {
      "image/png": "[encoded data removed]",
      "text/plain": [
       "<Figure size 432x288 with 1 Axes>"
      ]
     },
     "metadata": {
      "needs_background": "light",
      "tags": []
     },
     "output_type": "display_data"
    },
    {
     "data": {
      "image/png": "[encoded data removed]",
      "text/plain": [
       "<Figure size 432x288 with 1 Axes>"
      ]
     },
     "metadata": {
      "needs_background": "light",
      "tags": []
     },
     "output_type": "display_data"
    },
    {
     "data": {
      "image/png": "[encoded data removed]",
      "text/plain": [
       "<Figure size 432x288 with 1 Axes>"
      ]
     },
     "metadata": {
      "needs_background": "light",
      "tags": []
     },
     "output_type": "display_data"
    },
    {
     "data": {
      "image/png": "[encoded data removed]",
      "text/plain": [
       "<Figure size 432x288 with 1 Axes>"
      ]
     },
     "metadata": {
      "needs_background": "light",
      "tags": []
     },
     "output_type": "display_data"
    }
   ],
   "source": [
    "## data visualization\n",
    "opening_price = df[\"open\"]\n",
    "plot.single_time_series_plot(opening_price, 'red', 'opening_price', 'days', 'price', 'opening_price - days')\n",
    "closing_price = df[\"close\"]\n",
    "plot.single_time_series_plot(closing_price, 'red', 'closing_price', 'days', 'price', 'closing_price - days')\n",
    "avg_high_low = (df['high']+df['low'])/2\n",
    "plot.single_time_series_plot(avg_high_low, 'red', 'avg_high_low', 'days', 'price', 'avg_high_low - days')\n",
    "vol = df['vol']\n",
    "plot.single_time_series_plot(vol, 'red', 'volume', 'days', 'vol', 'vol - days')"
   ]
  },
  {
   "cell_type": "code",
   "execution_count": 20,
   "metadata": {
    "ExecuteTime": {
     "end_time": "2020-08-22T03:55:50.920724Z",
     "start_time": "2020-08-22T03:00:10.003635Z"
    },
    "colab": {
     "base_uri": "https://localhost:8080/",
     "height": 1000
    },
    "colab_type": "code",
    "id": "o69eZsBjX5ha",
    "outputId": "a35226ad-3f8d-478a-9e40-4e14037c1f1a"
   },
   "outputs": [
    {
     "name": "stdout",
     "output_type": "stream",
     "text": [
      "Epoch 1/90\n",
      "63/63 [==============================] - 4s 59ms/step - loss: 0.0050\n",
      "Epoch 2/90\n",
      "63/63 [==============================] - 4s 59ms/step - loss: 0.0015\n",
      "Epoch 3/90\n",
      "63/63 [==============================] - 4s 60ms/step - loss: 0.0014\n",
      "Epoch 4/90\n",
      "63/63 [==============================] - 4s 59ms/step - loss: 0.0014\n",
      "Epoch 5/90\n",
      "63/63 [==============================] - 4s 59ms/step - loss: 0.0013\n",
      "Epoch 6/90\n",
      "63/63 [==============================] - 4s 59ms/step - loss: 0.0013\n",
      "Epoch 7/90\n",
      "63/63 [==============================] - 4s 59ms/step - loss: 0.0011\n",
      "Epoch 8/90\n",
      "63/63 [==============================] - 4s 59ms/step - loss: 0.0011\n",
      "Epoch 9/90\n",
      "63/63 [==============================] - 4s 60ms/step - loss: 9.6616e-04\n",
      "Epoch 10/90\n",
      "63/63 [==============================] - 4s 60ms/step - loss: 9.9691e-04\n",
      "Epoch 11/90\n",
      "63/63 [==============================] - 4s 60ms/step - loss: 9.3003e-04\n",
      "Epoch 12/90\n",
      "63/63 [==============================] - 4s 58ms/step - loss: 0.0011\n",
      "Epoch 13/90\n",
      "63/63 [==============================] - 4s 59ms/step - loss: 8.8595e-04\n",
      "Epoch 14/90\n",
      "63/63 [==============================] - 4s 59ms/step - loss: 9.3412e-04\n",
      "Epoch 15/90\n",
      "63/63 [==============================] - 4s 59ms/step - loss: 7.7046e-04\n",
      "Epoch 16/90\n",
      "63/63 [==============================] - 4s 59ms/step - loss: 8.8110e-04\n",
      "Epoch 17/90\n",
      "63/63 [==============================] - 4s 59ms/step - loss: 7.5751e-04\n",
      "Epoch 18/90\n",
      "63/63 [==============================] - 4s 60ms/step - loss: 9.2832e-04\n",
      "Epoch 19/90\n",
      "63/63 [==============================] - 4s 59ms/step - loss: 7.0062e-04\n",
      "Epoch 20/90\n",
      "63/63 [==============================] - 4s 59ms/step - loss: 7.9302e-04\n",
      "Epoch 21/90\n",
      "63/63 [==============================] - 4s 59ms/step - loss: 6.9789e-04\n",
      "Epoch 22/90\n",
      "63/63 [==============================] - 4s 60ms/step - loss: 7.1955e-04\n",
      "Epoch 23/90\n",
      "63/63 [==============================] - 4s 59ms/step - loss: 6.8666e-04\n",
      "Epoch 24/90\n",
      "63/63 [==============================] - 4s 60ms/step - loss: 6.7226e-04\n",
      "Epoch 25/90\n",
      "63/63 [==============================] - 4s 59ms/step - loss: 6.6056e-04\n",
      "Epoch 26/90\n",
      "63/63 [==============================] - 4s 59ms/step - loss: 6.9227e-04\n",
      "Epoch 27/90\n",
      "63/63 [==============================] - 4s 59ms/step - loss: 7.0297e-04\n",
      "Epoch 28/90\n",
      "63/63 [==============================] - 4s 59ms/step - loss: 6.6471e-04\n",
      "Epoch 29/90\n",
      "63/63 [==============================] - 4s 59ms/step - loss: 6.7443e-04\n",
      "Epoch 30/90\n",
      "63/63 [==============================] - 4s 59ms/step - loss: 6.6975e-04\n",
      "Epoch 31/90\n",
      "63/63 [==============================] - 4s 59ms/step - loss: 6.4087e-04\n",
      "Epoch 32/90\n",
      "63/63 [==============================] - 4s 59ms/step - loss: 6.1666e-04\n",
      "Epoch 33/90\n",
      "63/63 [==============================] - 4s 60ms/step - loss: 6.3235e-04\n",
      "Epoch 34/90\n",
      "63/63 [==============================] - 4s 59ms/step - loss: 7.4368e-04\n",
      "Epoch 35/90\n",
      "63/63 [==============================] - 4s 59ms/step - loss: 6.4174e-04\n",
      "Epoch 36/90\n",
      "63/63 [==============================] - 4s 59ms/step - loss: 5.8142e-04\n",
      "Epoch 37/90\n",
      "63/63 [==============================] - 4s 58ms/step - loss: 6.4075e-04\n",
      "Epoch 38/90\n",
      "63/63 [==============================] - 4s 59ms/step - loss: 6.2819e-04\n",
      "Epoch 39/90\n",
      "63/63 [==============================] - 4s 58ms/step - loss: 5.9396e-04\n",
      "Epoch 40/90\n",
      "63/63 [==============================] - 4s 58ms/step - loss: 5.8781e-04\n",
      "Epoch 41/90\n",
      "63/63 [==============================] - 4s 60ms/step - loss: 5.4365e-04\n",
      "Epoch 42/90\n",
      "63/63 [==============================] - 4s 59ms/step - loss: 6.6548e-04\n",
      "Epoch 43/90\n",
      "63/63 [==============================] - 4s 59ms/step - loss: 7.6488e-04\n",
      "Epoch 44/90\n",
      "63/63 [==============================] - 4s 59ms/step - loss: 6.4984e-04\n",
      "Epoch 45/90\n",
      "63/63 [==============================] - 4s 58ms/step - loss: 5.2106e-04\n",
      "Epoch 46/90\n",
      "63/63 [==============================] - 4s 59ms/step - loss: 6.5773e-04\n",
      "Epoch 47/90\n",
      "63/63 [==============================] - 4s 59ms/step - loss: 5.7414e-04\n",
      "Epoch 48/90\n",
      "63/63 [==============================] - 4s 60ms/step - loss: 5.8790e-04\n",
      "Epoch 49/90\n",
      "63/63 [==============================] - 4s 58ms/step - loss: 5.3440e-04\n",
      "Epoch 50/90\n",
      "63/63 [==============================] - 4s 59ms/step - loss: 6.1554e-04\n",
      "Epoch 51/90\n",
      "63/63 [==============================] - 4s 59ms/step - loss: 4.9278e-04\n",
      "Epoch 52/90\n",
      "63/63 [==============================] - 4s 59ms/step - loss: 5.9997e-04\n",
      "Epoch 53/90\n",
      "63/63 [==============================] - 4s 59ms/step - loss: 6.1790e-04\n",
      "Epoch 54/90\n",
      "63/63 [==============================] - 4s 59ms/step - loss: 5.9807e-04\n",
      "Epoch 55/90\n",
      "63/63 [==============================] - 4s 60ms/step - loss: 5.3859e-04\n",
      "Epoch 56/90\n",
      "63/63 [==============================] - 4s 58ms/step - loss: 6.3484e-04\n",
      "Epoch 57/90\n",
      "63/63 [==============================] - 4s 59ms/step - loss: 5.9551e-04\n",
      "Epoch 58/90\n",
      "63/63 [==============================] - 4s 59ms/step - loss: 5.5773e-04\n",
      "Epoch 59/90\n",
      "63/63 [==============================] - 4s 60ms/step - loss: 4.9323e-04\n",
      "Epoch 60/90\n",
      "63/63 [==============================] - 4s 58ms/step - loss: 4.7858e-04\n",
      "Epoch 61/90\n",
      "63/63 [==============================] - 4s 59ms/step - loss: 5.7160e-04\n",
      "Epoch 62/90\n",
      "63/63 [==============================] - 4s 59ms/step - loss: 6.2561e-04\n",
      "Epoch 63/90\n",
      "63/63 [==============================] - 4s 58ms/step - loss: 6.6619e-04\n",
      "Epoch 64/90\n",
      "63/63 [==============================] - 4s 59ms/step - loss: 5.4484e-04\n",
      "Epoch 65/90\n",
      "63/63 [==============================] - 4s 58ms/step - loss: 4.5436e-04\n",
      "Epoch 66/90\n",
      "63/63 [==============================] - 4s 59ms/step - loss: 5.0995e-04\n",
      "Epoch 67/90\n",
      "63/63 [==============================] - 4s 60ms/step - loss: 5.1489e-04\n",
      "Epoch 68/90\n",
      "63/63 [==============================] - 4s 60ms/step - loss: 5.5365e-04\n",
      "Epoch 69/90\n",
      "63/63 [==============================] - 4s 58ms/step - loss: 5.1939e-04\n",
      "Epoch 70/90\n",
      "63/63 [==============================] - 4s 59ms/step - loss: 5.7053e-04\n",
      "Epoch 71/90\n",
      "63/63 [==============================] - 4s 60ms/step - loss: 4.7723e-04\n",
      "Epoch 72/90\n",
      "63/63 [==============================] - 4s 58ms/step - loss: 5.1783e-04\n",
      "Epoch 73/90\n",
      "63/63 [==============================] - 4s 59ms/step - loss: 5.4792e-04\n",
      "Epoch 74/90\n",
      "63/63 [==============================] - 4s 59ms/step - loss: 5.4992e-04\n",
      "Epoch 75/90\n",
      "63/63 [==============================] - 4s 59ms/step - loss: 5.9657e-04\n",
      "Epoch 76/90\n",
      "63/63 [==============================] - 4s 60ms/step - loss: 5.0424e-04\n",
      "Epoch 77/90\n",
      "63/63 [==============================] - 4s 58ms/step - loss: 4.9035e-04\n",
      "Epoch 78/90\n",
      "63/63 [==============================] - 4s 59ms/step - loss: 4.9627e-04\n",
      "Epoch 79/90\n",
      "63/63 [==============================] - 4s 59ms/step - loss: 6.3447e-04\n",
      "Epoch 80/90\n",
      "63/63 [==============================] - 4s 60ms/step - loss: 5.1223e-04\n",
      "Epoch 81/90\n",
      "63/63 [==============================] - 4s 59ms/step - loss: 4.7472e-04\n",
      "Epoch 82/90\n",
      "63/63 [==============================] - 4s 59ms/step - loss: 4.9415e-04\n",
      "Epoch 83/90\n",
      "63/63 [==============================] - 4s 60ms/step - loss: 5.1497e-04\n",
      "Epoch 84/90\n",
      "63/63 [==============================] - 4s 59ms/step - loss: 5.9678e-04\n",
      "Epoch 85/90\n",
      "63/63 [==============================] - 4s 59ms/step - loss: 5.0316e-04\n",
      "Epoch 86/90\n",
      "63/63 [==============================] - 4s 58ms/step - loss: 4.9534e-04\n",
      "Epoch 87/90\n",
      "63/63 [==============================] - 4s 59ms/step - loss: 5.2737e-04\n",
      "Epoch 88/90\n",
      "63/63 [==============================] - 4s 59ms/step - loss: 5.6258e-04\n",
      "Epoch 89/90\n",
      "63/63 [==============================] - 4s 59ms/step - loss: 5.2982e-04\n",
      "Epoch 90/90\n",
      "63/63 [==============================] - 4s 60ms/step - loss: 5.2919e-04\n"
     ]
    }
   ],
   "source": [
    "'''\n",
    "predict closing price of dataset using neural network using \n",
    "single attribute. \n",
    "Input to the model is the open price trend and the output of the \n",
    "model is the closing price of the stock.\n",
    "'''\n",
    "\n",
    "split_ratio = 0.8\n",
    "epochs = 90\n",
    "df_train = df[:int(len(df)*split_ratio)]\n",
    "df_test = df[int(len(df)*split_ratio):]\n",
    "\n",
    "# taking input set using open price and close price column\n",
    "columns = [1, 4]\n",
    "\n",
    "# important parameters\n",
    "timestep = 60\n",
    "no_of_feature = 1\n",
    "input_col = [0]\n",
    "output_col = [1]\n",
    "\n",
    "# creating minmax scaler object\n",
    "input_set = df.iloc[:, columns].values\n",
    "sc_input = MinMaxScaler(feature_range = (0,1))\n",
    "sc_input.fit(input_set)\n",
    "sc_output = MinMaxScaler(feature_range = (0,1))\n",
    "sc_output.fit(input_set[:,output_col]) \n",
    "\n",
    "# creating training set\n",
    "training_set = df_train.iloc[:, columns].values\n",
    "training_set_scaled = sc_input.transform(training_set)\n",
    "\n",
    "X_train, y_train = tensor.create_tensor(training_set_scaled, timestep, input_col,\\\n",
    "                                        output_col, no_of_feature)\n",
    "\n",
    "# creating testing set\n",
    "testing_set = df_test.iloc[:, columns].values\n",
    "\n",
    "# concatenate additional 60 days data from training set\n",
    "x1 = pd.DataFrame(training_set[len(training_set)-timestep:])\n",
    "x2 = pd.DataFrame(testing_set)\n",
    "testing_set = np.array(pd.concat([x1, x2]))\n",
    "testing_set_scaled = sc_input.transform(testing_set)\n",
    "\n",
    "X_test, y_test = tensor.create_tensor(testing_set_scaled, timestep, input_col, \\\n",
    "                                      output_col, no_of_feature)\n",
    "\n",
    "model = train.training(X_train, y_train, no_of_feature, epochs)\n"
   ]
  },
  {
   "cell_type": "code",
   "execution_count": 21,
   "metadata": {
    "ExecuteTime": {
     "end_time": "2020-08-22T03:57:54.347784Z",
     "start_time": "2020-08-22T03:57:54.014765Z"
    },
    "colab": {
     "base_uri": "https://localhost:8080/",
     "height": 35
    },
    "colab_type": "code",
    "id": "O5pYewS6X5he",
    "outputId": "bfbd1339-e4d2-48f2-93b1-8053c16b35e7"
   },
   "outputs": [
    {
     "name": "stdout",
     "output_type": "stream",
     "text": [
      "Saved model to disk\n"
     ]
    }
   ],
   "source": [
    "# single_attribute path\n",
    "path_name = \"./model/single_attribute\"\n",
    "\n",
    "# Save the model\n",
    "save_load.save_model(path_name, model)"
   ]
  },
  {
   "cell_type": "code",
   "execution_count": 22,
   "metadata": {
    "ExecuteTime": {
     "end_time": "2020-08-22T03:58:28.311727Z",
     "start_time": "2020-08-22T03:58:14.684947Z"
    },
    "colab": {
     "base_uri": "https://localhost:8080/",
     "height": 663
    },
    "colab_type": "code",
    "id": "AM_mZSkwX5hi",
    "outputId": "0e39de4d-d185-4796-a5a3-8fa1d2f1af93",
    "scrolled": true
   },
   "outputs": [
    {
     "name": "stdout",
     "output_type": "stream",
     "text": [
      "Loaded model from disk\n",
      "R2 Score :  0.9897563983644997\n",
      "MSE Score :  0.33262205564489933\n"
     ]
    },
    {
     "data": {
      "image/png": "[encoded data removed]",
      "text/plain": [
       "<Figure size 432x288 with 1 Axes>"
      ]
     },
     "metadata": {
      "needs_background": "light",
      "tags": []
     },
     "output_type": "display_data"
    },
    {
     "name": "stdout",
     "output_type": "stream",
     "text": [
      "R2 Score :  0.6500036708263335\n",
      "MSE Score :  4.7398278145682475\n"
     ]
    },
    {
     "data": {
      "image/png": "[encoded data removed]",
      "text/plain": [
       "<Figure size 432x288 with 1 Axes>"
      ]
     },
     "metadata": {
      "needs_background": "light",
      "tags": []
     },
     "output_type": "display_data"
    }
   ],
   "source": [
    "# load the model\n",
    "model = save_load.load_model(path_name)\n",
    "\n",
    "# predic: using the training data\n",
    "pred_train_scaled = model.predict(X_train)\n",
    "\n",
    "# rescaling the predictions (train data)\n",
    "train_predict = sc_output.inverse_transform(pred_train_scaled)\n",
    "train_actual = sc_output.inverse_transform(y_train) \n",
    "\n",
    "print('R2 Score : ', r2_score(train_actual, train_predict))\n",
    "print('MSE Score : ', mean_squared_error(train_actual, train_predict))\n",
    "\n",
    "plot.time_series_plot(train_actual, train_predict, 'red', 'blue', 'actual_close', \\\n",
    "                 'predicted_close', 'days', 'price', \\\n",
    "                 'Neural Network (single attribute - train data)')\n",
    "\n",
    "\n",
    "# predict using test data\n",
    "pred_test_scaled = model.predict(X_test)\n",
    "\n",
    "# rescale for predictions (test data)\n",
    "test_predict = sc_output.inverse_transform(pred_test_scaled)\n",
    "test_actual = sc_output.inverse_transform(y_test)\n",
    "\n",
    "print('R2 Score : ', r2_score(test_actual, test_predict))\n",
    "print('MSE Score : ', mean_squared_error(test_actual, test_predict))\n",
    "\n",
    "plot.time_series_plot(test_actual, test_predict, 'red', 'blue', 'actual_close', \\\n",
    "                 'predicted_close', 'days', 'price', \\\n",
    "                 'Neural Network (single attribute - test data)')"
   ]
  },
  {
   "cell_type": "code",
   "execution_count": 23,
   "metadata": {
    "ExecuteTime": {
     "end_time": "2020-08-22T03:59:11.028170Z",
     "start_time": "2020-08-22T03:59:08.252011Z"
    },
    "colab": {},
    "colab_type": "code",
    "id": "cVkW6n5BX5hl"
   },
   "outputs": [],
   "source": [
    "# save the results in excel format\n",
    "date = pd.DataFrame(df_test['date']).reset_index(drop=True)\n",
    "actual_price_df = pd.DataFrame(test_actual).round(3)\n",
    "predict_price_df = pd.DataFrame(test_predict).round(3)\n",
    "combined_df = pd.concat([date, actual_price_df, predict_price_df], axis = 1 )\n",
    "combined_df.columns = ['date','actual_close', 'predicted_close']\n",
    "combined_df.to_excel('./result/single_attribute/result.xlsx', index = False)"
   ]
  },
  {
   "cell_type": "code",
   "execution_count": null,
   "metadata": {
    "ExecuteTime": {
     "end_time": "2020-08-22T13:32:23.636315Z",
     "start_time": "2020-08-22T04:16:37.288013Z"
    },
    "colab": {},
    "colab_type": "code",
    "id": "Sgl90jbJX5ho",
    "scrolled": true
   },
   "outputs": [],
   "source": [
    "'''\n",
    "search hyperparameters to get the best fit of hyperparameters.\n",
    "'''\n",
    "\n",
    "# creating minmax scaler object\n",
    "input_set = df.iloc[:, columns].values\n",
    "sc_input = MinMaxScaler(feature_range = (0,1))\n",
    "sc_input.fit(input_set)\n",
    "sc_output = MinMaxScaler(feature_range = (0,1))\n",
    "sc_output.fit(input_set[:,output_col])\n",
    "\n",
    "# creating training set\n",
    "training_set = df_train.iloc[:, columns].values\n",
    "training_set_scaled = sc_input.transform(training_set)\n",
    "\n",
    "# hyperparameters\n",
    "neurons = [5, 60, 80] \n",
    "optimiser = ['adam', 'rmsprop']\n",
    "# activation = ['tanh', 'relu', 'sigmoid']\n",
    "activation = ['relu', 'sigmoid']\n",
    "\n",
    "count = 0\n",
    "for neuron in neurons:\n",
    "    # creating 3d tensor\n",
    "    X_train, y_train = tensor.create_tensor(training_set_scaled, neuron, \\\n",
    "                                            input_col, output_col, no_of_feature)\n",
    "    for optim in optimiser:\n",
    "        for func in activation:\n",
    "            # fitting the model\n",
    "            model = train.training(X_train, y_train, no_of_feature, epochs, \\\n",
    "                                   func, optim)\n",
    "            \n",
    "            # Saving the model\n",
    "            path_name = \"./model/hyperParaModels\" + \"/\" + str(count)\n",
    "            if os.path.exists(path_name):\n",
    "              shutil.rmtree(path_name)\n",
    "            os.mkdir(path_name)\n",
    "            save_load.save_model(path_name, model)\n",
    "            count = count + 1                \n",
    "\n",
    "path_name = \"./model/hyperParaModels\" \n"
   ]
  },
  {
   "cell_type": "code",
   "execution_count": null,
   "metadata": {
    "ExecuteTime": {
     "end_time": "2020-08-22T14:35:56.234383Z",
     "start_time": "2020-08-22T14:33:42.566737Z"
    },
    "colab": {},
    "colab_type": "code",
    "id": "WnL1JvHhX5hs"
   },
   "outputs": [],
   "source": [
    "## for loop to search final hyperparameters\n",
    "\n",
    "results = pd.DataFrame(columns=['neuron', 'optim', 'activation', 'r2_score', 'MSE'])\n",
    "count = 0\n",
    "for neuron in neurons:\n",
    "    # create testing set\n",
    "    testing_set = df_test.iloc[:, columns].values\n",
    "    \n",
    "    # concatenate additional 60 days data from training set\n",
    "    x1 = pd.DataFrame(training_set[len(training_set)-neuron:])\n",
    "    x2 = pd.DataFrame(testing_set)\n",
    "    testing_set = np.array(pd.concat([x1, x2]))\n",
    "    testing_set_scaled = sc_input.transform(testing_set)\n",
    "    \n",
    "    # creating 3d tensor\n",
    "    X_test, y_test = tensor.create_tensor(testing_set_scaled, neuron, input_col,\\\n",
    "                                          output_col, no_of_feature)\n",
    "    for optim in optimiser:\n",
    "        for func in activation:\n",
    "            # load model\n",
    "            model = save_load.load_model(path_name + \"/\" + str(count))\n",
    "            \n",
    "            # predict using testing data\n",
    "            pred_test_scaled = model.predict(X_test)\n",
    "            \n",
    "            # rescale the predictions\n",
    "            test_predict = sc_output.inverse_transform(pred_test_scaled)\n",
    "            test_actual = sc_output.inverse_transform(y_test)\n",
    "            \n",
    "            # score\n",
    "            model_accuracy_r2 = r2_score(test_actual, test_predict)\n",
    "            model_accuracy_mse = mean_squared_error(test_actual, test_predict)\n",
    "            print(\"r2 : \", model_accuracy_r2)\n",
    "            print(\"mse : \", model_accuracy_mse)\n",
    "            \n",
    "            plot.time_series_plot(test_actual, test_predict, 'red', 'blue', 'actual_close',\\\n",
    "                     'predicted_close', 'days', 'price', 'Neural Network')\n",
    "            \n",
    "            count = count + 1\n",
    "            \n",
    "            results.loc[count] = [neuron, optim, func, model_accuracy_r2, \\\n",
    "                       model_accuracy_mse]\n",
    "hyper_optim_excel_path = \"./model/hyperParaModels/hyperparameter_optim.xlsx\"\n",
    "if os.path.exists(hyper_optim_excel_path):\n",
    "  os.remove(hyper_optim_excel_path)\n",
    "results.to_excel(hyper_optim_excel_path)\n"
   ]
  },
  {
   "cell_type": "code",
   "execution_count": null,
   "metadata": {
    "colab": {},
    "colab_type": "code",
    "id": "tPc0uq-LqXrp"
   },
   "outputs": [],
   "source": [
    "'''\n",
    "select the best features which contribute the most in the prediction\n",
    "'''\n",
    "# initiate\n",
    "count = 0\n",
    "combination = []\n",
    "df_train = df[:int(len(df)*split_ratio)]\n",
    "df_test = df[int(len(df)*split_ratio):]\n",
    "df = pd.concat([df, pd.DataFrame((df['high'] + df['low'])/2, columns=['Avg.val'\\\n",
    "                                 ])], axis=1)\n",
    "path_name = \"./model/feature_importance\" \n",
    "\n",
    "# important parameters\n",
    "columns = [1, 4, 6, 7]\n",
    "no_of_feature = 4\n",
    "timestep = 60\n",
    "input_col = [0, 1, 2, 3]\n",
    "output_col = [1]\n",
    "\n",
    "# create minmax scaler object\n",
    "input_set = df.iloc[:, columns].values\n",
    "sc_input = MinMaxScaler(feature_range = (0,1))\n",
    "sc_input.fit(input_set)\n",
    "sc_output = MinMaxScaler(feature_range = (0,1))\n",
    "sc_output.fit(input_set[:,output_col])\n",
    "\n",
    "# create training set\n",
    "training_set = df_train.iloc[:, columns].values\n",
    "training_set_scaled = sc_input.transform(training_set)\n",
    "\n",
    "X_train, y_train = tensor.create_tensor(training_set_scaled, timestep, input_col,\\\n",
    "                                        output_col, no_of_feature)\n",
    "\n",
    "# create testing set\n",
    "testing_set = df_test.iloc[:, columns].values\n",
    "x1 = pd.DataFrame(training_set[len(training_set)-timestep:])\n",
    "x2 = pd.DataFrame(testing_set)\n",
    "testing_set = np.array(pd.concat([x1, x2]))\n",
    "testing_set_scaled = sc_input.transform(testing_set)\n",
    "\n",
    "X_test, y_test = tensor.create_tensor(testing_set_scaled, timestep, input_col, \\\n",
    "                                      output_col, no_of_feature)\n",
    "# create feature attributes\n",
    "for i in range(1,len(input_col)+1):\n",
    "    combination.append(list((combinations(input_col, i))))\n",
    "\n",
    "\n",
    "for i in range(no_of_feature):\n",
    "    for j in range(len(combination[i])):\n",
    "        feature = np.array(combination[i][j])\n",
    "        model = train.training(X_train[:, :, feature], y_train, feature.shape[0]\\\n",
    "                               , epochs, 'relu', 'adam')\n",
    "        # Save the model        \n",
    "        path_name = \"./model/feature_importance\" + \"/\" + str(count)\n",
    "        if os.path.exists(path_name):\n",
    "          shutil.rmtree(path_name)\n",
    "        os.mkdir(path_name)\n",
    "        save_load.save_model(path_name, model)\n",
    "        count = count + 1"
   ]
  },
  {
   "cell_type": "code",
   "execution_count": null,
   "metadata": {
    "ExecuteTime": {
     "end_time": "2020-08-23T12:40:46.503966Z",
     "start_time": "2020-08-23T12:35:38.204332Z"
    },
    "colab": {},
    "colab_type": "code",
    "id": "qs3fZGIDX5hy"
   },
   "outputs": [],
   "source": [
    "path_name = \"./model/feature_importance\" \n",
    "# actual output\n",
    "test_actual = sc_output.inverse_transform(y_test)\n",
    "# create dataframe for storing results\n",
    "results = pd.DataFrame(columns=['feature_col', 'r2_score', 'mse_score'])\n",
    "count = 0\n",
    "for i in range(no_of_feature):\n",
    "    for j in range(len(combination[i])):\n",
    "        feature = np.array(combination[i][j])\n",
    "        # load the model\n",
    "        model = save_load.load_model(path_name + \"/\" + str(count))\n",
    "        # predict\n",
    "        pred_test_scaled = model.predict(X_test[:, :, feature])\n",
    "        test_predict = sc_output.inverse_transform(pred_test_scaled)\n",
    "        # evaluate\n",
    "        model_accuracy_r2 = r2_score(test_actual, test_predict)\n",
    "        model_accuracy_mse = mean_squared_error(test_actual, test_predict)\n",
    "        print(\"feature: {}\\n r2_score: {}\\n mse_score: {}\\n\".format(feature, \\\n",
    "              model_accuracy_r2, model_accuracy_mse))\n",
    "        plot.time_series_plot(test_actual, test_predict, 'red', 'blue', \\\n",
    "                              'actual_close', 'predicted_close', 'days', 'price',\\\n",
    "                              'Neural Network (multiple attributes - train data)')\n",
    "\n",
    "        results.loc[count] = [feature, model_accuracy_r2, model_accuracy_mse]\n",
    "        count = count + 1\n",
    "# save to excel\n",
    "feature_imp_excel_path = \"./result/feature_importance/result.xlsx\"\n",
    "if os.path.exists(feature_imp_excel_path):\n",
    "  os.remove(feature_imp_excel_path)\n",
    "results.to_excel(feature_imp_excel_path)"
   ]
  },
  {
   "cell_type": "code",
   "execution_count": null,
   "metadata": {
    "ExecuteTime": {
     "end_time": "2020-08-23T12:53:54.694048Z",
     "start_time": "2020-08-23T12:53:54.655046Z"
    },
    "colab": {},
    "colab_type": "code",
    "id": "qcghaLqZX5h2"
   },
   "outputs": [],
   "source": [
    "'''\n",
    "the final model of the stock price prediction using\n",
    "results from hyperparameter optimization and feature importance. \n",
    "\n",
    "'''\n",
    "# initiate\n",
    "df_train = df[:int(len(df)*split_ratio)]\n",
    "df_test = df[int(len(df)*split_ratio):]\n",
    "\n",
    "# important parameters\n",
    "columns = [4]\n",
    "no_of_feature = 1\n",
    "timestep = 60\n",
    "input_col = [0]\n",
    "output_col = [0]\n",
    "\n",
    "# create minmax scaler object\n",
    "input_set = df.iloc[:, columns].values\n",
    "sc_input = MinMaxScaler(feature_range = (0,1))\n",
    "sc_input.fit(input_set)\n",
    "sc_output = MinMaxScaler(feature_range = (0,1))\n",
    "sc_output.fit(input_set[:,output_col])\n",
    "\n",
    "# create training set\n",
    "training_set = df_train.iloc[:, columns].values\n",
    "training_set_scaled = sc_input.transform(training_set)\n",
    "\n",
    "X_train, y_train = tensor.create_tensor(training_set_scaled, timestep, input_col,\\\n",
    "                                        output_col, no_of_feature)\n",
    "\n",
    "# create testing set\n",
    "testing_set = df_test.iloc[:, columns].values\n",
    "x1 = pd.DataFrame(training_set[len(training_set)-timestep:])\n",
    "x2 = pd.DataFrame(testing_set)\n",
    "testing_set = np.array(pd.concat([x1, x2]))\n",
    "testing_set_scaled = sc_input.transform(testing_set)\n",
    "\n",
    "X_test, y_test = tensor.create_tensor(testing_set_scaled, timestep, input_col, \\\n",
    "                                      output_col, no_of_feature)"
   ]
  },
  {
   "cell_type": "code",
   "execution_count": null,
   "metadata": {
    "ExecuteTime": {
     "end_time": "2020-08-23T13:48:35.155680Z",
     "start_time": "2020-08-23T13:31:54.324435Z"
    },
    "colab": {},
    "colab_type": "code",
    "id": "Jz7QoL8DX5h5",
    "scrolled": true
   },
   "outputs": [],
   "source": [
    "path_name = \"./model/final_model\"\n",
    "# import tensorflow as tf\n",
    "# import keras.backend.tensorflow_backend as KTF\n",
    "# KTF.set_session(tf.Session(config=tf.ConfigProto(device_count={'gpu':0})))\n",
    "# train the model\n",
    "# with tf.device('/cpu:0'):\n",
    "model = train.training(X_train, y_train, no_of_feature, epochs, 'relu', 'adam')\n",
    "\n",
    "# Save the model\n",
    "save_load.save_model(path_name, model)\n",
    "\n",
    "# load the model\n",
    "model = save_load.load_model(path_name)\n",
    "\n",
    "# prediction using train set\n",
    "pred_train_scaled = model.predict(X_train)\n",
    "\n",
    "# rescale the predictions with train data\n",
    "train_predict = sc_output.inverse_transform(pred_train_scaled)\n",
    "train_actual = sc_output.inverse_transform(y_train)\n",
    "\n",
    "print('R2 Score : ', r2_score(train_actual, train_predict))\n",
    "print('MSE Score : ', mean_squared_error(train_actual, train_predict))\n",
    "\n",
    "plot.time_series_plot(train_actual, train_predict, 'red', 'blue', 'actual_close', \\\n",
    "                 'predicted_close', 'days', 'price', \\\n",
    "                 'Neural Network (multiple attributes - train data)')\n",
    "\n",
    "# predict using testing set\n",
    "pred_test_scaled = model.predict(X_test)\n",
    "\n",
    "# rescale the predictions with test data\n",
    "test_predict = sc_output.inverse_transform(pred_test_scaled)\n",
    "test_actual = sc_output.inverse_transform(y_test)\n",
    "\n",
    "print('R2 Score : ', r2_score(test_actual, test_predict))\n",
    "print('MSE Score : ', mean_squared_error(test_actual, test_predict))\n",
    "\n",
    "plot.time_series_plot(test_actual, test_predict, 'red', 'blue', 'actual_close', \\\n",
    "                 'predicted_open', 'days', 'price', \\\n",
    "                 'Neural Network (multiple attributes - test data)')"
   ]
  },
  {
   "cell_type": "code",
   "execution_count": null,
   "metadata": {
    "ExecuteTime": {
     "end_time": "2020-08-23T13:52:05.803728Z",
     "start_time": "2020-08-23T13:52:05.658720Z"
    },
    "colab": {},
    "colab_type": "code",
    "id": "zDf5tkYaX5h8"
   },
   "outputs": [],
   "source": [
    "# save the final results in excel format\n",
    "date = pd.DataFrame(df_test['date']).reset_index(drop=True)\n",
    "actual_price_df = pd.DataFrame(test_actual).round(3)\n",
    "predict_price_df = pd.DataFrame(test_predict).round(3)\n",
    "combined_df = pd.concat([date, actual_price_df, predict_price_df], axis = 1)\n",
    "combined_df.columns = ['date','actual_close', 'predicted_close']\n",
    "\n",
    "combined_excel_path = \"./result/final_model/result.xlsx\"\n",
    "if os.path.exists(combined_excel_path):\n",
    "  os.remove(combined_excel_path)\n",
    "results.to_excel(combined_excel_path)\n",
    "combined_df.to_excel(combined_excel_path, index = False)"
   ]
  }
 ],
 "metadata": {
  "accelerator": "GPU",
  "colab": {
   "collapsed_sections": [],
   "name": "Investment_and_Trading_LSTM.ipynb",
   "provenance": [],
   "toc_visible": true
  },
  "kernelspec": {
   "display_name": "Python 3",
   "language": "python",
   "name": "python3"
  },
  "language_info": {
   "codemirror_mode": {
    "name": "ipython",
    "version": 3
   },
   "file_extension": ".py",
   "mimetype": "text/x-python",
   "name": "python",
   "nbconvert_exporter": "python",
   "pygments_lexer": "ipython3",
   "version": "3.5.5"
  },
  "toc": {
   "base_numbering": 1,
   "nav_menu": {},
   "number_sections": true,
   "sideBar": true,
   "skip_h1_title": false,
   "title_cell": "Table of Contents",
   "title_sidebar": "Contents",
   "toc_cell": false,
   "toc_position": {},
   "toc_section_display": true,
   "toc_window_display": false
  },
  "varInspector": {
   "cols": {
    "lenName": 16,
    "lenType": 16,
    "lenVar": 40
   },
   "kernels_config": {
    "python": {
     "delete_cmd_postfix": "",
     "delete_cmd_prefix": "del ",
     "library": "var_list.py",
     "varRefreshCmd": "print(var_dic_list())"
    },
    "r": {
     "delete_cmd_postfix": ") ",
     "delete_cmd_prefix": "rm(",
     "library": "var_list.r",
     "varRefreshCmd": "cat(var_dic_list()) "
    }
   },
   "types_to_exclude": [
    "module",
    "function",
    "builtin_function_or_method",
    "instance",
    "_Feature"
   ],
   "window_display": false
  }
 },
 "nbformat": 4,
 "nbformat_minor": 1
}
